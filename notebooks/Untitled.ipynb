{
 "cells": [
  {
   "cell_type": "markdown",
   "id": "f1beacab",
   "metadata": {},
   "source": [
    "## Olist Notebook"
   ]
  },
  {
   "cell_type": "code",
   "execution_count": 52,
   "id": "54acffea",
   "metadata": {},
   "outputs": [],
   "source": [
    "import os\n",
    "import sys\n",
    "import numpy as np\n",
    "import pandas as pd\n",
    "import psycopg2\n",
    "import matplotlib.pyplot as plt"
   ]
  },
  {
   "cell_type": "code",
   "execution_count": 62,
   "id": "feeba91c",
   "metadata": {},
   "outputs": [],
   "source": [
    "db_host='localhost'\n",
    "db_name='olist_db'\n",
    "db_user='olistuser'\n",
    "db_pass='olistpass'"
   ]
  },
  {
   "cell_type": "code",
   "execution_count": 67,
   "id": "6673f213",
   "metadata": {},
   "outputs": [],
   "source": [
    "def connect_to_database():\n",
    "    \"\"\"Establish a connection to the PostgreSQL database.\"\"\"\n",
    "    try:\n",
    "        connection = psycopg2.connect(\n",
    "            dbname=db_name,\n",
    "            user=db_user,\n",
    "            password=db_pass,\n",
    "            host=db_host\n",
    "        )\n",
    "        return connection\n",
    "    except Error as e:\n",
    "        print(f\"Error connecting to database: {e}\")\n",
    "        return None\n",
    "    \n",
    "connection = connect_to_database()"
   ]
  },
  {
   "cell_type": "code",
   "execution_count": 54,
   "id": "8bea5b12",
   "metadata": {},
   "outputs": [
    {
     "data": {
      "text/plain": [
       "['olist_customers_dataset.csv',\n",
       " 'olist_order_reviews_dataset.csv',\n",
       " 'olist_orders_dataset.csv',\n",
       " 'olist_products_dataset.csv',\n",
       " 'product_category_name_translation.csv',\n",
       " 'olist_order_payments_dataset.csv',\n",
       " 'olist_sellers_dataset.csv',\n",
       " 'olist_order_items_dataset.csv',\n",
       " 'olist_geolocation_dataset.csv']"
      ]
     },
     "execution_count": 54,
     "metadata": {},
     "output_type": "execute_result"
    }
   ],
   "source": [
    "data_dir = '../data'\n",
    "os.listdir(data_dir)"
   ]
  },
  {
   "cell_type": "code",
   "execution_count": 55,
   "id": "9ce27b43",
   "metadata": {},
   "outputs": [],
   "source": [
    "reviews = pd.read_csv(f'{data_dir}/olist_order_reviews_dataset.csv')"
   ]
  },
  {
   "cell_type": "code",
   "execution_count": 58,
   "id": "5b343f6c",
   "metadata": {},
   "outputs": [],
   "source": [
    "for col in reviews.columns:\n",
    "    if reviews[f'{col}'].isnull().sum() / len(reviews) >= 0.5:\n",
    "        reviews = reviews.drop(columns=f'{col}')\n",
    "reviews.to_csv(f'{data_dir}/clean/olist_order_reviews_dataset.csv')"
   ]
  },
  {
   "cell_type": "code",
   "execution_count": 59,
   "id": "ed7e8bf1",
   "metadata": {},
   "outputs": [
    {
     "data": {
      "text/html": [
       "<div>\n",
       "<style scoped>\n",
       "    .dataframe tbody tr th:only-of-type {\n",
       "        vertical-align: middle;\n",
       "    }\n",
       "\n",
       "    .dataframe tbody tr th {\n",
       "        vertical-align: top;\n",
       "    }\n",
       "\n",
       "    .dataframe thead th {\n",
       "        text-align: right;\n",
       "    }\n",
       "</style>\n",
       "<table border=\"1\" class=\"dataframe\">\n",
       "  <thead>\n",
       "    <tr style=\"text-align: right;\">\n",
       "      <th></th>\n",
       "      <th>review_id</th>\n",
       "      <th>order_id</th>\n",
       "      <th>review_score</th>\n",
       "      <th>review_creation_date</th>\n",
       "      <th>review_answer_timestamp</th>\n",
       "    </tr>\n",
       "  </thead>\n",
       "  <tbody>\n",
       "    <tr>\n",
       "      <th>0</th>\n",
       "      <td>7bc2406110b926393aa56f80a40eba40</td>\n",
       "      <td>73fc7af87114b39712e6da79b0a377eb</td>\n",
       "      <td>4</td>\n",
       "      <td>2018-01-18 00:00:00</td>\n",
       "      <td>2018-01-18 21:46:59</td>\n",
       "    </tr>\n",
       "    <tr>\n",
       "      <th>1</th>\n",
       "      <td>80e641a11e56f04c1ad469d5645fdfde</td>\n",
       "      <td>a548910a1c6147796b98fdf73dbeba33</td>\n",
       "      <td>5</td>\n",
       "      <td>2018-03-10 00:00:00</td>\n",
       "      <td>2018-03-11 03:05:13</td>\n",
       "    </tr>\n",
       "    <tr>\n",
       "      <th>2</th>\n",
       "      <td>228ce5500dc1d8e020d8d1322874b6f0</td>\n",
       "      <td>f9e4b658b201a9f2ecdecbb34bed034b</td>\n",
       "      <td>5</td>\n",
       "      <td>2018-02-17 00:00:00</td>\n",
       "      <td>2018-02-18 14:36:24</td>\n",
       "    </tr>\n",
       "    <tr>\n",
       "      <th>3</th>\n",
       "      <td>e64fb393e7b32834bb789ff8bb30750e</td>\n",
       "      <td>658677c97b385a9be170737859d3511b</td>\n",
       "      <td>5</td>\n",
       "      <td>2017-04-21 00:00:00</td>\n",
       "      <td>2017-04-21 22:02:06</td>\n",
       "    </tr>\n",
       "    <tr>\n",
       "      <th>4</th>\n",
       "      <td>f7c4243c7fe1938f181bec41a392bdeb</td>\n",
       "      <td>8e6bfb81e283fa7e4f11123a3fb894f1</td>\n",
       "      <td>5</td>\n",
       "      <td>2018-03-01 00:00:00</td>\n",
       "      <td>2018-03-02 10:26:53</td>\n",
       "    </tr>\n",
       "  </tbody>\n",
       "</table>\n",
       "</div>"
      ],
      "text/plain": [
       "                          review_id                          order_id  \\\n",
       "0  7bc2406110b926393aa56f80a40eba40  73fc7af87114b39712e6da79b0a377eb   \n",
       "1  80e641a11e56f04c1ad469d5645fdfde  a548910a1c6147796b98fdf73dbeba33   \n",
       "2  228ce5500dc1d8e020d8d1322874b6f0  f9e4b658b201a9f2ecdecbb34bed034b   \n",
       "3  e64fb393e7b32834bb789ff8bb30750e  658677c97b385a9be170737859d3511b   \n",
       "4  f7c4243c7fe1938f181bec41a392bdeb  8e6bfb81e283fa7e4f11123a3fb894f1   \n",
       "\n",
       "   review_score review_creation_date review_answer_timestamp  \n",
       "0             4  2018-01-18 00:00:00     2018-01-18 21:46:59  \n",
       "1             5  2018-03-10 00:00:00     2018-03-11 03:05:13  \n",
       "2             5  2018-02-17 00:00:00     2018-02-18 14:36:24  \n",
       "3             5  2017-04-21 00:00:00     2017-04-21 22:02:06  \n",
       "4             5  2018-03-01 00:00:00     2018-03-02 10:26:53  "
      ]
     },
     "execution_count": 59,
     "metadata": {},
     "output_type": "execute_result"
    }
   ],
   "source": [
    "reviews.head()"
   ]
  },
  {
   "cell_type": "code",
   "execution_count": 51,
   "id": "07455286",
   "metadata": {},
   "outputs": [
    {
     "name": "stdout",
     "output_type": "stream",
     "text": [
      "Error inserting order review: can't adapt type 'numpy.int64'\n"
     ]
    },
    {
     "name": "stderr",
     "output_type": "stream",
     "text": [
      "/tmp/ipykernel_592289/3091547827.py:36: FutureWarning: Series.__getitem__ treating keys as positions is deprecated. In a future version, integer keys will always be treated as labels (consistent with DataFrame behavior). To access a value by position, use `ser.iloc[pos]`\n",
      "  cursor.execute(insert_query, review_data)\n"
     ]
    }
   ],
   "source": []
  },
  {
   "cell_type": "code",
   "execution_count": 68,
   "id": "db8bef05",
   "metadata": {},
   "outputs": [
    {
     "name": "stdout",
     "output_type": "stream",
     "text": [
      "Order reviews inserted successfully.\n"
     ]
    }
   ],
   "source": [
    "def insert_order_reviews(connection, df):\n",
    "    \"\"\"Insert data into the order_reviews table.\"\"\"\n",
    "    try:\n",
    "        cursor = connection.cursor()\n",
    "        insert_query = \"\"\"\n",
    "            INSERT INTO olist.order_reviews (\n",
    "                review_id,\n",
    "                order_id,\n",
    "                review_score,\n",
    "                review_creation_date,\n",
    "                review_answer_timestamp\n",
    "            ) VALUES (\n",
    "                %s, %s, %s, %s, %s\n",
    "            )\n",
    "        \"\"\"\n",
    "        for index, row in df.iterrows():\n",
    "            review_data = (\n",
    "                row['review_id'],\n",
    "                row['order_id'],\n",
    "                row['review_score'],\n",
    "                row['review_creation_date'],\n",
    "                row['review_answer_timestamp']\n",
    "            )\n",
    "            cursor.execute(insert_query, review_data)\n",
    "        connection.commit()\n",
    "        print(\"Order reviews inserted successfully.\")\n",
    "    except Error as e:\n",
    "        print(f\"Error inserting order reviews: {e}\")\n",
    "        connection.rollback()\n",
    "connect_to_database()       \n",
    "insert_order_reviews(connection, reviews)"
   ]
  },
  {
   "cell_type": "code",
   "execution_count": 70,
   "id": "eb66fd76",
   "metadata": {},
   "outputs": [],
   "source": [
    "# script\n",
    "\n",
    "import os\n",
    "import sys\n",
    "import numpy as np\n",
    "import pandas as pd\n",
    "import psycopg2\n",
    "import matplotlib.pyplot as plt\n",
    "\n",
    "\n",
    "db_host='localhost'\n",
    "db_name='olist_db'\n",
    "db_user='olistuser'\n",
    "db_pass='olistpass'\n",
    "\n",
    "data_dir = '../data'\n",
    "\n",
    "def clean():\n",
    "    for col in reviews.columns:\n",
    "        if reviews[f'{col}'].isnull().sum() / len(reviews) >= 0.5:\n",
    "            reviews = reviews.drop(columns=f'{col}')\n",
    "    reviews.to_csv(f'{data_dir}/clean/olist_order_reviews_dataset.csv')\n",
    "\n",
    "def connect_to_database():\n",
    "    \"\"\"Establish a connection to the PostgreSQL database.\"\"\"\n",
    "    try:\n",
    "        connection = psycopg2.connect(\n",
    "            dbname=db_name,\n",
    "            user=db_user,\n",
    "            password=db_pass,\n",
    "            host=db_host\n",
    "        )\n",
    "        return connection\n",
    "    except Error as e:\n",
    "        print(f\"Error connecting to database: {e}\")\n",
    "        return None\n",
    "    \n",
    "    \n",
    "def insert_order_reviews(connection, df):\n",
    "    \"\"\"Insert data into the order_reviews table.\"\"\"\n",
    "    try:\n",
    "        cursor = connection.cursor()\n",
    "        insert_query = \"\"\"\n",
    "            INSERT INTO olist.order_reviews (\n",
    "                review_id,\n",
    "                order_id,\n",
    "                review_score,\n",
    "                review_creation_date,\n",
    "                review_answer_timestamp\n",
    "            ) VALUES (\n",
    "                %s, %s, %s, %s, %s\n",
    "            )\n",
    "        \"\"\"\n",
    "        for index, row in df.iterrows():\n",
    "            review_data = (\n",
    "                row['review_id'],\n",
    "                row['order_id'],\n",
    "                row['review_score'],\n",
    "                row['review_creation_date'],\n",
    "                row['review_answer_timestamp']\n",
    "            )\n",
    "            cursor.execute(insert_query, review_data)\n",
    "        connection.commit()\n",
    "        print(\"Order reviews inserted successfully.\")\n",
    "    except Error as e:\n",
    "        print(f\"Error inserting order reviews: {e}\")\n",
    "        connection.rollback()\n",
    "\n",
    "    \n",
    "\n",
    "def main():\n",
    "    db_host='localhost'\n",
    "    db_name='olist_db'\n",
    "    db_user='olistuser'\n",
    "    db_pass='olistpass'\n",
    "\n",
    "    data_dir = '../data'\n",
    "    \n",
    "    connection = connect_to_database()\n",
    "    insert_order_reviews(connection, reviews)"
   ]
  },
  {
   "cell_type": "code",
   "execution_count": null,
   "id": "3f110ad5",
   "metadata": {},
   "outputs": [],
   "source": []
  },
  {
   "cell_type": "code",
   "execution_count": null,
   "id": "dd3c4dd2",
   "metadata": {},
   "outputs": [],
   "source": []
  }
 ],
 "metadata": {
  "kernelspec": {
   "display_name": "Python 3 (ipykernel)",
   "language": "python",
   "name": "python3"
  },
  "language_info": {
   "codemirror_mode": {
    "name": "ipython",
    "version": 3
   },
   "file_extension": ".py",
   "mimetype": "text/x-python",
   "name": "python",
   "nbconvert_exporter": "python",
   "pygments_lexer": "ipython3",
   "version": "3.12.3"
  }
 },
 "nbformat": 4,
 "nbformat_minor": 5
}
